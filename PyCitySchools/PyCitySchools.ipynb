{
 "cells": [
  {
   "cell_type": "code",
   "execution_count": 111,
   "id": "6feae431",
   "metadata": {
    "scrolled": true
   },
   "outputs": [],
   "source": [
    "# Dependencies and Setup\n",
    "import pandas as pd\n",
    "\n",
    "# File to Load (Remember to Change These)\n",
    "school_data_to_load = \"Resources/schools_complete.csv\"\n",
    "student_data_to_load = \"Resources/students_complete.csv\"\n",
    "\n",
    "# Read School and Student Data File and store into Pandas DataFrames\n",
    "school_data = pd.read_csv(school_data_to_load)\n",
    "student_data = pd.read_csv(student_data_to_load)\n",
    "\n",
    "# Combine the data into a single dataset.  \n",
    "school_data_complete = pd.merge(student_data, school_data, how=\"left\", on=[\"school_name\", \"school_name\"])"
   ]
  },
  {
   "cell_type": "markdown",
   "id": "d2bee886",
   "metadata": {},
   "source": [
    "## District Summary"
   ]
  },
  {
   "cell_type": "code",
   "execution_count": 113,
   "id": "c3feb695",
   "metadata": {
    "scrolled": true
   },
   "outputs": [
    {
     "data": {
      "text/html": [
       "<style  type=\"text/css\" >\n",
       "</style><table id=\"T_2deca_\" ><thead>    <tr>        <th class=\"blank level0\" ></th>        <th class=\"col_heading level0 col0\" >Total Schools</th>        <th class=\"col_heading level0 col1\" >Total Students</th>        <th class=\"col_heading level0 col2\" >Total Budget</th>        <th class=\"col_heading level0 col3\" >Average Math Score</th>        <th class=\"col_heading level0 col4\" >Average Reading Score</th>        <th class=\"col_heading level0 col5\" >% Passing Math</th>        <th class=\"col_heading level0 col6\" >% Passing Reading</th>        <th class=\"col_heading level0 col7\" >% Overall Passing</th>    </tr></thead><tbody>\n",
       "                <tr>\n",
       "                        <th id=\"T_2deca_level0_row0\" class=\"row_heading level0 row0\" >0</th>\n",
       "                        <td id=\"T_2deca_row0_col0\" class=\"data row0 col0\" >15</td>\n",
       "                        <td id=\"T_2deca_row0_col1\" class=\"data row0 col1\" >39,170</td>\n",
       "                        <td id=\"T_2deca_row0_col2\" class=\"data row0 col2\" >$24,649,428.00</td>\n",
       "                        <td id=\"T_2deca_row0_col3\" class=\"data row0 col3\" >78.985371</td>\n",
       "                        <td id=\"T_2deca_row0_col4\" class=\"data row0 col4\" >81.877840</td>\n",
       "                        <td id=\"T_2deca_row0_col5\" class=\"data row0 col5\" >74.980853</td>\n",
       "                        <td id=\"T_2deca_row0_col6\" class=\"data row0 col6\" >85.805463</td>\n",
       "                        <td id=\"T_2deca_row0_col7\" class=\"data row0 col7\" >65.172326</td>\n",
       "            </tr>\n",
       "    </tbody></table>"
      ],
      "text/plain": [
       "<pandas.io.formats.style.Styler at 0x1694f7f0970>"
      ]
     },
     "execution_count": 113,
     "metadata": {},
     "output_type": "execute_result"
    }
   ],
   "source": [
    "#count schools, students and sum budget\n",
    "school_count = len(school_data_complete[\"school_name\"].unique())\n",
    "student_count = len(student_data[\"student_name\"])\n",
    "budget_sum = school_data[\"budget\"].sum()\n",
    "\n",
    "#convert strings to numbers\n",
    "student_data[\"math_score\"] = pd.to_numeric(student_data[\"math_score\"])\n",
    "student_data[\"reading_score\"] = pd.to_numeric(student_data[\"reading_score\"])\n",
    "\n",
    "#calculate averages and total passes\n",
    "math_avg = student_data[\"math_score\"].mean()\n",
    "reading_avg = student_data[\"reading_score\"].mean()\n",
    "math_pass_count = student_data.loc[student_data[\"math_score\"] >= 70]\n",
    "reading_pass_count = student_data.loc[student_data[\"reading_score\"] >= 70]\n",
    "passed_both = student_data.loc[(student_data[\"math_score\"] >= 70) & (student_data[\"reading_score\"] >= 70)]\n",
    "\n",
    "#get percentages\n",
    "math_cent = len(math_pass_count) / student_count\n",
    "reading_cent = len(reading_pass_count) / student_count\n",
    "passed_both_cent = len(passed_both) / student_count\n",
    "\n",
    "district_summary_df = pd.DataFrame(\n",
    "    {\"Total Schools\": [school_count],\n",
    "     \"Total Students\": [student_count],\n",
    "     \"Total Budget\": [budget_sum],\n",
    "     \"Average Math Score\" :[math_avg],\n",
    "     \"Average Reading Score\":[reading_avg],\n",
    "     \"% Passing Math\":[math_cent * 100],\n",
    "     \"% Passing Reading\":[reading_cent * 100],\n",
    "     \"% Overall Passing\":[passed_both_cent * 100]\n",
    "     }\n",
    ")\n",
    "\n",
    "district_summary_df.head().style.format({\"Total Students\": \"{:,.0f}\",\n",
    "                                        \"Total Budget\": \"${:,.2f}\"})"
   ]
  },
  {
   "cell_type": "code",
   "execution_count": null,
   "id": "da088a94",
   "metadata": {},
   "outputs": [],
   "source": []
  }
 ],
 "metadata": {
  "kernelspec": {
   "display_name": "Python 3 (ipykernel)",
   "language": "python",
   "name": "python3"
  },
  "language_info": {
   "codemirror_mode": {
    "name": "ipython",
    "version": 3
   },
   "file_extension": ".py",
   "mimetype": "text/x-python",
   "name": "python",
   "nbconvert_exporter": "python",
   "pygments_lexer": "ipython3",
   "version": "3.8.10"
  }
 },
 "nbformat": 4,
 "nbformat_minor": 5
}
